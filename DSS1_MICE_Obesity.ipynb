{
 "cells": [
  {
   "cell_type": "markdown",
   "metadata": {},
   "source": [
    "# Missing Value Imputation Using Multiple Imputation by Chained Equations (MICE)"
   ]
  },
  {
   "cell_type": "markdown",
   "metadata": {},
   "source": [
    "## Background"
   ]
  },
  {
   "cell_type": "markdown",
   "metadata": {},
   "source": [
    "In Data Science workflows, a pre-processing task is required which includes data cleaning to ensure data quality before the analysis process. One of the problems that are often encountered in the data cleaning process is missing values. Most available algorithms for analyzing datasets in the feature selection process and classification or estimation process analyze complete datasets. Missing value can bias the results of the machine learning models or reduce the accuracy of the model. Therefore, the missing value is resulted the analysis results has an undesirable effect. "
   ]
  },
  {
   "cell_type": "markdown",
   "metadata": {},
   "source": [
    "From Little and Rubin on the [Journal Article](https://doi.org/10.2307/1165119), there are three main types of missing data: \n",
    "- **Missing Completely at Random (MCAR)** is a type of missing value where the distribution of missing data does not depend on observation data or missing value data.\n",
    "- **Missing at Random (MAR)** is a type of missing value where the distribution of missing data depends on the observed data, but does not depend on the missing value data.\n",
    "- **Not Missing at Random (NMAR)** is a type of missing value where the distribution of missing data depends on the missing value data. In other words, missingness is non-ignorable. The occurrence of missing data in a variable is related to the variable itself, so it cannot be predicted from other variables in a dataset.\n"
   ]
  },
  {
   "cell_type": "markdown",
   "metadata": {},
   "source": [
    "Missing Value Imputation (MVI) is the most commonly used solution method for dealing with incomplete dataset problems. In general, MVI is a process for dealing with missing values where replacements for missing values are found through statistical techniques or machine learning. However, the main limitation of using statistical imputation with a measure of central tendency is that it leads to biased estimates of variance and covariance. Therefore, techniques with machine learning emerged as another alternative to overcome the weaknesses of statistical methods. One of the machine learning algorithms in the imputation technique is MICE. \n"
   ]
  },
  {
   "cell_type": "markdown",
   "metadata": {},
   "source": [
    "## Multiple Imputation by Chained Equations (MICE)\n",
    "\n",
    "**MICE (Multiple Imputation by Chained Equations)** is Multiple imputation which is recognized as a leading strategy for inserting missing epidemiological data due to its ease of implementation and ability to maintain unbiased effect estimates and valid inferences [(Ref)](https://onlinelibrary.wiley.com/doi/10.1002/sim.8468). So, MICE performs multiple regression for imputing. \n",
    "\n",
    "MICE is a method of multiple imputation where missing values are filled in several times to create a complete data set. MICE is an imputation method that works with the assumption that the missing data is **Missing at Random (MAR)**. This means that the missing data properties are related to the observed data but not the missing data. So that the imputation process involves information from other observation columns. The MICE algorithm works by running a multiple regression model and each missing value is modeled conditionally depending on the observed (not missing) value.\n",
    "\n",
    "The main characteristic of MICE is that it performs multiple imputations using a chained equations approach. Multiple Imputations is able to take into account statistical uncertainty in imputation. While the chain equation approach is very flexible and can handle variables of various types (continuous or binary) as well as complexities such as limits.\n",
    "\n",
    "The following are the steps of the MICE technique:\n",
    "\n",
    "**Step 1**: All missing values are initially filled in by the usual statistical methods (eg mean for numeric, mode for categorical). This imputation can be considered a \"place holders\" (temporary value).\n",
    "\n",
    "**Step 2:** Gradually, one by one column will be returned to NA. Set back to missing starts on the variable (“var”) with the least number of missing values.\n",
    "\n",
    "**Step 3:** “var” is the dependent variable in the regression/classification model and all other variables are independent variables in the regression model.\n",
    "\n",
    "**Step 4:** The missing values for “var” are then replaced with predictions (imputations) from the regression model. When \"var\" is subsequently used as an independent variable in a regression model for another variable, both this observed value and the calculated value will be used.\n",
    "\n",
    "**Step 5:** Move to the next variable with the next fewest missing values, repeating steps 2–4 then for each variable that has missing data. Cycle through each variable constitutes one iteration or \"cycle.\" At the end of one cycle, all missing values have been replaced with predictions from the regression that reflect the observed relationships in the data. The idea is that at the end of the cycle, the distribution of parameters governing imputation (eg, coefficients in a regression model) should converge in the sense of being stable.\n",
    "\n",
    "Based on its performance, this MICE builds the potential of the imputation method which is able to produce predictive values that are closer to the original value. However, examining the strength of the techniques is important to help understand its characteristics."
   ]
  },
  {
   "cell_type": "markdown",
   "metadata": {},
   "source": [
    "## Objectives\n",
    "\n",
    "Overall, this project offers three objectives and contributions as follows:\n",
    "\n",
    "   1. Apply missing data imputation using MICE\n",
    "   2. Comparing the MICE performance with statistical method imputation \n",
    "   3. Analyze the MICE performance on the Missing at Random for numeric and categorical data"
   ]
  },
  {
   "cell_type": "markdown",
   "metadata": {},
   "source": [
    "## Dataset"
   ]
  },
  {
   "cell_type": "markdown",
   "metadata": {},
   "source": [
    "Determining the dataset in this project is very crucial so that the expected analysis is in accordance with the needs of real-world cases.\n",
    "\n",
    "As for some of the constraints that exist in the selection of data are as follows:\n",
    "- **There is a correlation between one column and another**\n",
    "As we know that the assumption of data in the MICE technique is Missing at Random (MAR). This means that the value in a missing column can be explained by another column. So the dataset used must have a correlation between columns so that MICE can work according to its characteristics.\n",
    "- **There are contain the numeric and categorical columns**\n",
    "This project wants to see how MICE performs in predicting missing values in numeric and categorical data. This is one of the additional characteristics of the required dataset, namely the presence of numeric and categorical columns. Where the column must have a correlation with other columns in the data.\n",
    "- **When implementation in the real world allows for missing values during measurement**\n",
    "Another important thing in selecting a dataset is the potential for the data to be empty. So that this project is really able to describe the business problems that occur. Medical data is known to usually have missing values [(Ref)](https://www.mdpi.com/2073-8994/12/11/1792). Especially the presence of personal data that makes the patient or subject uncomfortable to answer the question actually. So, this project will use data that contain personal information related to health.\n",
    "\n",
    "\n",
    "Referring to the dataset requirements, this project uses a health dataset obtained from UCI Machine Learning [(Link Dataset)](https://archive.ics.uci.edu/ml/datasets/Estimation+of+obesity+levels+based+on+eating+habits+and+physical+condition+). \n",
    "\n",
    "#### Dataset: Estimation of obesity levels based on eating habits and physical condition Data Set\n",
    "\n",
    "Dataset include data for the estimation of obesity levels in individuals from the countries of Mexico, Peru and Colombia, based on their eating habits and physical condition. In recent decades, there has been increasing concern about obesity in adolescents and adults. Obesity can cause many physical health problems and affect people’s quality of life. So people are starting to look at the factors that lead to obesity and predict the emergence of obesity. This data contains 17 attributes and 2111 records.\n",
    "\n",
    "**Attributes related with eating habits are:**\n",
    "- Frequent consumption of high caloric food (FAVC)\n",
    "- Frequency of consumption of vegetables (FCVC)\n",
    "- Number of main meals (NCP)\n",
    "- Consumption of food between meals (CAEC)\n",
    "- Consumption of water daily (CH20)\n",
    "- Consumption of alcohol (CALC)\n",
    "\n",
    "**Attributes related with the physical condition are:**\n",
    "- Calories consumption monitoring (SCC)\n",
    "- Physical activity frequency (FAF)\n",
    "- Time using technology devices (TUE)\n",
    "- Transportation used (MTRANS)\n",
    "\n",
    "**Other variables were:**\n",
    "Gender, Age, Height and Weight.\n",
    "\n",
    "**Class variable:** \n",
    "NObesity was created with the values of: \n",
    "- Insufficient Weight\n",
    "- Normal Weight\n",
    "- Overweight Level I\n",
    "- Overweight Level II\n",
    "- Obesity Type I\n",
    "- Obesity Type II\n",
    "- Obesity Type III"
   ]
  },
  {
   "cell_type": "markdown",
   "metadata": {},
   "source": [
    "## Import Libraries "
   ]
  },
  {
   "cell_type": "markdown",
   "metadata": {},
   "source": [
    "The first stage in this analysis process is to prepare any libraries that can help us in processing the data. The following is a list of libraries that will be used:\n",
    "- `pandas` : data reading, table aggregation, data manipulation, and other data analysis processes\n",
    "- `numpy` : perform mathematical and logical operations\n",
    "- `random` : perform random values for the process needs to artificially create missing values\n",
    "- `matplotlib.pyplot` : create visualization to see the correlation value\n",
    "- `seaborn` : making statistical graphics\n",
    "- `sklearn.metrics` : measure prediction performance"
   ]
  },
  {
   "cell_type": "code",
   "execution_count": 1,
   "metadata": {},
   "outputs": [],
   "source": [
    "import warnings\n",
    "warnings.filterwarnings(\"ignore\")"
   ]
  },
  {
   "cell_type": "code",
   "execution_count": 2,
   "metadata": {},
   "outputs": [],
   "source": [
    "import pandas as pd\n",
    "import numpy as np\n",
    "import random\n",
    "from fancyimpute import IterativeImputer\n",
    "import matplotlib.pyplot as plt\n",
    "import seaborn as sns\n",
    "from sklearn.metrics import mean_squared_error\n",
    "from sklearn.metrics import accuracy_score"
   ]
  },
  {
   "cell_type": "markdown",
   "metadata": {},
   "source": [
    "## Read Data"
   ]
  },
  {
   "cell_type": "markdown",
   "metadata": {},
   "source": [
    "The data used is `obesity.csv` which has been stored in the `data` folder.The following code is reading the data using pandas then creating a preview for the dataset."
   ]
  },
  {
   "cell_type": "code",
   "execution_count": 3,
   "metadata": {},
   "outputs": [
    {
     "data": {
      "text/html": [
       "<div>\n",
       "<style scoped>\n",
       "    .dataframe tbody tr th:only-of-type {\n",
       "        vertical-align: middle;\n",
       "    }\n",
       "\n",
       "    .dataframe tbody tr th {\n",
       "        vertical-align: top;\n",
       "    }\n",
       "\n",
       "    .dataframe thead th {\n",
       "        text-align: right;\n",
       "    }\n",
       "</style>\n",
       "<table border=\"1\" class=\"dataframe\">\n",
       "  <thead>\n",
       "    <tr style=\"text-align: right;\">\n",
       "      <th></th>\n",
       "      <th>Gender</th>\n",
       "      <th>Age</th>\n",
       "      <th>Height</th>\n",
       "      <th>Weight</th>\n",
       "      <th>family_history_with_overweight</th>\n",
       "      <th>FAVC</th>\n",
       "      <th>FCVC</th>\n",
       "      <th>NCP</th>\n",
       "      <th>CAEC</th>\n",
       "      <th>SMOKE</th>\n",
       "      <th>CH2O</th>\n",
       "      <th>SCC</th>\n",
       "      <th>FAF</th>\n",
       "      <th>TUE</th>\n",
       "      <th>CALC</th>\n",
       "      <th>MTRANS</th>\n",
       "      <th>NObeyesdad</th>\n",
       "    </tr>\n",
       "  </thead>\n",
       "  <tbody>\n",
       "    <tr>\n",
       "      <th>0</th>\n",
       "      <td>Female</td>\n",
       "      <td>21.0</td>\n",
       "      <td>1.62</td>\n",
       "      <td>64.0</td>\n",
       "      <td>yes</td>\n",
       "      <td>no</td>\n",
       "      <td>2.0</td>\n",
       "      <td>3.0</td>\n",
       "      <td>Sometimes</td>\n",
       "      <td>no</td>\n",
       "      <td>2.0</td>\n",
       "      <td>no</td>\n",
       "      <td>0.0</td>\n",
       "      <td>1.0</td>\n",
       "      <td>no</td>\n",
       "      <td>Public_Transportation</td>\n",
       "      <td>Normal_Weight</td>\n",
       "    </tr>\n",
       "    <tr>\n",
       "      <th>1</th>\n",
       "      <td>Female</td>\n",
       "      <td>21.0</td>\n",
       "      <td>1.52</td>\n",
       "      <td>56.0</td>\n",
       "      <td>yes</td>\n",
       "      <td>no</td>\n",
       "      <td>3.0</td>\n",
       "      <td>3.0</td>\n",
       "      <td>Sometimes</td>\n",
       "      <td>yes</td>\n",
       "      <td>3.0</td>\n",
       "      <td>yes</td>\n",
       "      <td>3.0</td>\n",
       "      <td>0.0</td>\n",
       "      <td>Sometimes</td>\n",
       "      <td>Public_Transportation</td>\n",
       "      <td>Normal_Weight</td>\n",
       "    </tr>\n",
       "    <tr>\n",
       "      <th>2</th>\n",
       "      <td>Male</td>\n",
       "      <td>23.0</td>\n",
       "      <td>1.80</td>\n",
       "      <td>77.0</td>\n",
       "      <td>yes</td>\n",
       "      <td>no</td>\n",
       "      <td>2.0</td>\n",
       "      <td>3.0</td>\n",
       "      <td>Sometimes</td>\n",
       "      <td>no</td>\n",
       "      <td>2.0</td>\n",
       "      <td>no</td>\n",
       "      <td>2.0</td>\n",
       "      <td>1.0</td>\n",
       "      <td>Frequently</td>\n",
       "      <td>Public_Transportation</td>\n",
       "      <td>Normal_Weight</td>\n",
       "    </tr>\n",
       "    <tr>\n",
       "      <th>3</th>\n",
       "      <td>Male</td>\n",
       "      <td>27.0</td>\n",
       "      <td>1.80</td>\n",
       "      <td>87.0</td>\n",
       "      <td>no</td>\n",
       "      <td>no</td>\n",
       "      <td>3.0</td>\n",
       "      <td>3.0</td>\n",
       "      <td>Sometimes</td>\n",
       "      <td>no</td>\n",
       "      <td>2.0</td>\n",
       "      <td>no</td>\n",
       "      <td>2.0</td>\n",
       "      <td>0.0</td>\n",
       "      <td>Frequently</td>\n",
       "      <td>Walking</td>\n",
       "      <td>Overweight_Level_I</td>\n",
       "    </tr>\n",
       "    <tr>\n",
       "      <th>4</th>\n",
       "      <td>Male</td>\n",
       "      <td>22.0</td>\n",
       "      <td>1.78</td>\n",
       "      <td>89.8</td>\n",
       "      <td>no</td>\n",
       "      <td>no</td>\n",
       "      <td>2.0</td>\n",
       "      <td>1.0</td>\n",
       "      <td>Sometimes</td>\n",
       "      <td>no</td>\n",
       "      <td>2.0</td>\n",
       "      <td>no</td>\n",
       "      <td>0.0</td>\n",
       "      <td>0.0</td>\n",
       "      <td>Sometimes</td>\n",
       "      <td>Public_Transportation</td>\n",
       "      <td>Overweight_Level_II</td>\n",
       "    </tr>\n",
       "  </tbody>\n",
       "</table>\n",
       "</div>"
      ],
      "text/plain": [
       "   Gender   Age  Height  Weight family_history_with_overweight FAVC  FCVC  \\\n",
       "0  Female  21.0    1.62    64.0                            yes   no   2.0   \n",
       "1  Female  21.0    1.52    56.0                            yes   no   3.0   \n",
       "2    Male  23.0    1.80    77.0                            yes   no   2.0   \n",
       "3    Male  27.0    1.80    87.0                             no   no   3.0   \n",
       "4    Male  22.0    1.78    89.8                             no   no   2.0   \n",
       "\n",
       "   NCP       CAEC SMOKE  CH2O  SCC  FAF  TUE        CALC  \\\n",
       "0  3.0  Sometimes    no   2.0   no  0.0  1.0          no   \n",
       "1  3.0  Sometimes   yes   3.0  yes  3.0  0.0   Sometimes   \n",
       "2  3.0  Sometimes    no   2.0   no  2.0  1.0  Frequently   \n",
       "3  3.0  Sometimes    no   2.0   no  2.0  0.0  Frequently   \n",
       "4  1.0  Sometimes    no   2.0   no  0.0  0.0   Sometimes   \n",
       "\n",
       "                  MTRANS           NObeyesdad  \n",
       "0  Public_Transportation        Normal_Weight  \n",
       "1  Public_Transportation        Normal_Weight  \n",
       "2  Public_Transportation        Normal_Weight  \n",
       "3                Walking   Overweight_Level_I  \n",
       "4  Public_Transportation  Overweight_Level_II  "
      ]
     },
     "execution_count": 3,
     "metadata": {},
     "output_type": "execute_result"
    }
   ],
   "source": [
    "data_full = pd.read_csv('data/obesity.csv')\n",
    "data_full.head()"
   ]
  },
  {
   "cell_type": "markdown",
   "metadata": {},
   "source": [
    "Description of the Dataset:\n",
    "\n",
    "- `Gender` : 1= female, 2 = male\n",
    "- `Age` : numeric\n",
    "- `Height` : numeric, in meters\n",
    "- `Weight` : numeric, in kilograms\n",
    "- `family_history_with_overweight` family history of obesity) : 1 = yes, 2 = no\n",
    "- `FAVC` (frequent consumption of high caloric food): 1= yes, 2= no\n",
    "- `FCVC` (frequency of consumption of vegetables: 1 = never, 2 = sometimes, 3 = always\n",
    "- `NCP` (number of main meals): 1, 2, 3 or 4 meals a day\n",
    "- `CAEC` (consumption of food between meals): 1=no, 2=sometimes, 3=frequently, 4=always\n",
    "- `SMOKE` : 1= yes, 2= no\n",
    "- `CH20` (consumption of water): 1 = less than a liter, 2 = 1–2 liters, 3 = more than 2 liters\n",
    "- `SCC` (calorie consumption monitoring): 1= yes, 2 = no\n",
    "- `FAF` (physical activity frequency per week): 0 = none, 1 = 1 to 2 days, 2= 2 to 4 days, 3 = 4 to 5 days\n",
    "- `TUE` (time using technology devices a day): 0 = 0–2 hours, 1 = 3–5 hours, 2 = more than 5 hours\n",
    "- `CALC` (consumption of alcohol): 1= never, 2 = sometimes, 3 = frequently, 4 = always\n",
    "- `MTRANS` : 1 = automobile, 2 = motorbike, 3 = bike, 4 = public transportation, 5= walking\n",
    "- `NObeyesdad` : Insufficient Weight, Normal Weight, Overweight Level I, Overweight Level II, Obesity Type I, Obesity Type II and Obesity Type III\n",
    "\n",
    "Source : https://archive.ics.uci.edu/ml/datasets/Estimation+of+obesity+levels+based+on+eating+habits+and+physical+condition+"
   ]
  },
  {
   "cell_type": "markdown",
   "metadata": {},
   "source": [
    "## Exploratory Data Analysis\n",
    "\n",
    "At this stage we will explore the data, including:\n",
    "- check the data type in each column\n",
    "- encoding label for the categorical column\n",
    "- check correlation\n",
    "- check the presence of missing values in the dataset"
   ]
  },
  {
   "cell_type": "markdown",
   "metadata": {},
   "source": [
    "### Check Data Types"
   ]
  },
  {
   "cell_type": "code",
   "execution_count": 4,
   "metadata": {},
   "outputs": [
    {
     "data": {
      "text/plain": [
       "Gender                             object\n",
       "Age                               float64\n",
       "Height                            float64\n",
       "Weight                            float64\n",
       "family_history_with_overweight     object\n",
       "FAVC                               object\n",
       "FCVC                              float64\n",
       "NCP                               float64\n",
       "CAEC                               object\n",
       "SMOKE                              object\n",
       "CH2O                              float64\n",
       "SCC                                object\n",
       "FAF                               float64\n",
       "TUE                               float64\n",
       "CALC                               object\n",
       "MTRANS                             object\n",
       "NObeyesdad                         object\n",
       "dtype: object"
      ]
     },
     "execution_count": 4,
     "metadata": {},
     "output_type": "execute_result"
    }
   ],
   "source": [
    "data_full.dtypes"
   ]
  },
  {
   "cell_type": "markdown",
   "metadata": {},
   "source": [
    "Based on checking the data types above, it was found that there were several data types on the variables that were not appropriate:\n",
    "- `Gender`, `family_history_with_overweight`, `FAVC`, `CAEC`, `SMOKE`, `SCC`, `CALC`, `MTRANS`, `NObeyesdad` → should be category`\n",
    "\n",
    "So, the next step is data type conversion."
   ]
  },
  {
   "cell_type": "code",
   "execution_count": 5,
   "metadata": {},
   "outputs": [
    {
     "data": {
      "text/plain": [
       "Gender                            category\n",
       "Age                                float64\n",
       "Height                             float64\n",
       "Weight                             float64\n",
       "family_history_with_overweight    category\n",
       "FAVC                              category\n",
       "FCVC                               float64\n",
       "NCP                                float64\n",
       "CAEC                              category\n",
       "SMOKE                             category\n",
       "CH2O                               float64\n",
       "SCC                               category\n",
       "FAF                                float64\n",
       "TUE                                float64\n",
       "CALC                              category\n",
       "MTRANS                            category\n",
       "NObeyesdad                        category\n",
       "dtype: object"
      ]
     },
     "execution_count": 5,
     "metadata": {},
     "output_type": "execute_result"
    }
   ],
   "source": [
    "kolom_category = [\"Gender\", \"family_history_with_overweight\", \"FAVC\", \"CAEC\", \"SMOKE\", \"SCC\", \"CALC\", \"MTRANS\", \"NObeyesdad\"]\n",
    "\n",
    "data_full[kolom_category] = data_full[kolom_category].astype('category')\n",
    "\n",
    "data_full.dtypes"
   ]
  },
  {
   "cell_type": "markdown",
   "metadata": {},
   "source": [
    "The data type conversion is successful and all data types are correct. However, in the category column, special treatment is needed, namely the encoding label. This approach converts each value in the column to a number. This needs to be done because the imputation technique with MICE requires all input and output variables to be numeric."
   ]
  },
  {
   "cell_type": "markdown",
   "metadata": {},
   "source": [
    "## Label Encoding for Category Variables\n",
    "\n",
    "To make documentation of the value transformation, checking the unique value is conducted for column categories before and after encoding. This uses columns `family_history_with_overweight` as the sample."
   ]
  },
  {
   "cell_type": "code",
   "execution_count": 6,
   "metadata": {},
   "outputs": [
    {
     "data": {
      "text/plain": [
       "['yes', 'no']\n",
       "Categories (2, object): ['no', 'yes']"
      ]
     },
     "execution_count": 6,
     "metadata": {},
     "output_type": "execute_result"
    }
   ],
   "source": [
    "data_full['family_history_with_overweight'].unique()"
   ]
  },
  {
   "cell_type": "code",
   "execution_count": 7,
   "metadata": {},
   "outputs": [],
   "source": [
    "data_full['Gender'] = data_full['Gender'].cat.codes\n",
    "data_full['family_history_with_overweight'] = data_full['family_history_with_overweight'].cat.codes\n",
    "data_full['FAVC'] = data_full['FAVC'].cat.codes\n",
    "data_full['CAEC'] = data_full['CAEC'].cat.codes\n",
    "data_full['SMOKE'] = data_full['SMOKE'].cat.codes\n",
    "data_full['SCC'] = data_full['SCC'].cat.codes\n",
    "data_full['CALC'] = data_full['CALC'].cat.codes\n",
    "data_full['MTRANS'] = data_full['MTRANS'].cat.codes\n",
    "data_full['NObeyesdad'] = data_full['NObeyesdad'].cat.codes"
   ]
  },
  {
   "cell_type": "code",
   "execution_count": 8,
   "metadata": {},
   "outputs": [
    {
     "data": {
      "text/plain": [
       "array([1, 0], dtype=int8)"
      ]
     },
     "execution_count": 8,
     "metadata": {},
     "output_type": "execute_result"
    }
   ],
   "source": [
    "data_full['family_history_with_overweight'].unique()"
   ]
  },
  {
   "cell_type": "markdown",
   "metadata": {},
   "source": [
    "It can be seen that before encoding labels, the unique values in the `family_history_with_overweight` column are `Yes` and `No`. However, after encoding using the `.cat.codes` accessor, the unique values become `1` and `0`. This indicates that the encoding process was successfully executed."
   ]
  },
  {
   "cell_type": "markdown",
   "metadata": {},
   "source": [
    "## Check Correlation"
   ]
  },
  {
   "cell_type": "markdown",
   "metadata": {},
   "source": [
    "Inspection of the correlation value is carried out to see how strong the relationship between the columns is. To answer whether a column can be explained by the value in another column. The correlation was done by Pearson method. The correlation coefficient is a statistical measure of the strength of the relationship between the relative movements of two variables. The values range between -1.0 and 1.0. A correlation of -1.0 shows a perfect negative correlation, while a correlation of 1.0 shows a perfect positive correlation. A correlation of 0.0 shows no linear relationship between the movement of the two variables."
   ]
  },
  {
   "cell_type": "code",
   "execution_count": 9,
   "metadata": {
    "scrolled": true
   },
   "outputs": [
    {
     "data": {
      "text/plain": [
       "<AxesSubplot:>"
      ]
     },
     "execution_count": 9,
     "metadata": {},
     "output_type": "execute_result"
    },
    {
     "data": {
      "image/png": "[encoded data removed]",
      "text/plain": [
       "<Figure size 1080x720 with 2 Axes>"
      ]
     },
     "metadata": {
      "needs_background": "light"
     },
     "output_type": "display_data"
    }
   ],
   "source": [
    "#Correlation matrix\n",
    "data_full.corr()\n",
    "\n",
    "#Correlation heatmap\n",
    "plt.figure(figsize=(15,10))\n",
    "sns.heatmap(data_full.corr(), annot = True)"
   ]
  },
  {
   "cell_type": "markdown",
   "metadata": {},
   "source": [
    "Based on the result, in general there is no columns that directly have a strong relationship. There are several columns such as `Height` against `Gender`, `family_history_with_overweight` against `Weight`, and `MTRANS` against `Age ` which have a correlation above 0.5 so that it is indicated to have a relationship but not too strong.\n",
    "\n",
    "But from a business perspective, we know that actually all the columns in the dataset affect the class variable, namely `NObeyesdad`."
   ]
  },
  {
   "cell_type": "markdown",
   "metadata": {},
   "source": [
    "### Check Missing Value on Original Dataset"
   ]
  },
  {
   "cell_type": "markdown",
   "metadata": {},
   "source": [
    "Before data pre-processing, checking for missing values is carried out on the original dataset."
   ]
  },
  {
   "cell_type": "code",
   "execution_count": 10,
   "metadata": {},
   "outputs": [
    {
     "data": {
      "text/plain": [
       "0"
      ]
     },
     "execution_count": 10,
     "metadata": {},
     "output_type": "execute_result"
    }
   ],
   "source": [
    "data_full.isnull().sum().sum()"
   ]
  },
  {
   "cell_type": "markdown",
   "metadata": {},
   "source": [
    "There are no missing values in the full dataset."
   ]
  },
  {
   "cell_type": "markdown",
   "metadata": {},
   "source": [
    "## Data Preparation"
   ]
  },
  {
   "cell_type": "markdown",
   "metadata": {},
   "source": [
    "There are steps to prepare data before performing missing data imputation. In the first place is removing the missing value in the original dataset. However, because the original dataset does not have a missing value, this step can be skipped.\n",
    "Then next step is artificially create missing value, so that the imputation technique will be applied to fill in the values that are deliberately made empty. Basically, this step is to prepare the missing value in the dataset."
   ]
  },
  {
   "cell_type": "markdown",
   "metadata": {},
   "source": [
    "### Artificially Create Missing Value"
   ]
  },
  {
   "cell_type": "code",
   "execution_count": 11,
   "metadata": {},
   "outputs": [
    {
     "data": {
      "text/html": [
       "<div>\n",
       "<style scoped>\n",
       "    .dataframe tbody tr th:only-of-type {\n",
       "        vertical-align: middle;\n",
       "    }\n",
       "\n",
       "    .dataframe tbody tr th {\n",
       "        vertical-align: top;\n",
       "    }\n",
       "\n",
       "    .dataframe thead th {\n",
       "        text-align: right;\n",
       "    }\n",
       "</style>\n",
       "<table border=\"1\" class=\"dataframe\">\n",
       "  <thead>\n",
       "    <tr style=\"text-align: right;\">\n",
       "      <th></th>\n",
       "      <th>Gender</th>\n",
       "      <th>Age</th>\n",
       "      <th>Height</th>\n",
       "      <th>Weight</th>\n",
       "      <th>family_history_with_overweight</th>\n",
       "      <th>FAVC</th>\n",
       "      <th>FCVC</th>\n",
       "      <th>NCP</th>\n",
       "      <th>CAEC</th>\n",
       "      <th>SMOKE</th>\n",
       "      <th>CH2O</th>\n",
       "      <th>SCC</th>\n",
       "      <th>FAF</th>\n",
       "      <th>TUE</th>\n",
       "      <th>CALC</th>\n",
       "      <th>MTRANS</th>\n",
       "      <th>NObeyesdad</th>\n",
       "    </tr>\n",
       "  </thead>\n",
       "  <tbody>\n",
       "    <tr>\n",
       "      <th>0</th>\n",
       "      <td>0</td>\n",
       "      <td>21.0</td>\n",
       "      <td>1.62</td>\n",
       "      <td>64.0</td>\n",
       "      <td>1</td>\n",
       "      <td>0</td>\n",
       "      <td>2.0</td>\n",
       "      <td>3.0</td>\n",
       "      <td>2</td>\n",
       "      <td>0</td>\n",
       "      <td>2.0</td>\n",
       "      <td>0</td>\n",
       "      <td>0.0</td>\n",
       "      <td>1.0</td>\n",
       "      <td>3</td>\n",
       "      <td>3</td>\n",
       "      <td>1</td>\n",
       "    </tr>\n",
       "    <tr>\n",
       "      <th>1</th>\n",
       "      <td>0</td>\n",
       "      <td>21.0</td>\n",
       "      <td>1.52</td>\n",
       "      <td>56.0</td>\n",
       "      <td>1</td>\n",
       "      <td>0</td>\n",
       "      <td>3.0</td>\n",
       "      <td>3.0</td>\n",
       "      <td>2</td>\n",
       "      <td>1</td>\n",
       "      <td>3.0</td>\n",
       "      <td>1</td>\n",
       "      <td>3.0</td>\n",
       "      <td>0.0</td>\n",
       "      <td>2</td>\n",
       "      <td>3</td>\n",
       "      <td>1</td>\n",
       "    </tr>\n",
       "    <tr>\n",
       "      <th>2</th>\n",
       "      <td>1</td>\n",
       "      <td>23.0</td>\n",
       "      <td>1.80</td>\n",
       "      <td>77.0</td>\n",
       "      <td>1</td>\n",
       "      <td>0</td>\n",
       "      <td>2.0</td>\n",
       "      <td>3.0</td>\n",
       "      <td>2</td>\n",
       "      <td>0</td>\n",
       "      <td>2.0</td>\n",
       "      <td>0</td>\n",
       "      <td>2.0</td>\n",
       "      <td>1.0</td>\n",
       "      <td>1</td>\n",
       "      <td>3</td>\n",
       "      <td>1</td>\n",
       "    </tr>\n",
       "    <tr>\n",
       "      <th>3</th>\n",
       "      <td>1</td>\n",
       "      <td>27.0</td>\n",
       "      <td>1.80</td>\n",
       "      <td>87.0</td>\n",
       "      <td>0</td>\n",
       "      <td>0</td>\n",
       "      <td>3.0</td>\n",
       "      <td>3.0</td>\n",
       "      <td>2</td>\n",
       "      <td>0</td>\n",
       "      <td>2.0</td>\n",
       "      <td>0</td>\n",
       "      <td>2.0</td>\n",
       "      <td>0.0</td>\n",
       "      <td>1</td>\n",
       "      <td>4</td>\n",
       "      <td>5</td>\n",
       "    </tr>\n",
       "    <tr>\n",
       "      <th>4</th>\n",
       "      <td>1</td>\n",
       "      <td>22.0</td>\n",
       "      <td>1.78</td>\n",
       "      <td>89.8</td>\n",
       "      <td>0</td>\n",
       "      <td>0</td>\n",
       "      <td>2.0</td>\n",
       "      <td>1.0</td>\n",
       "      <td>2</td>\n",
       "      <td>0</td>\n",
       "      <td>2.0</td>\n",
       "      <td>0</td>\n",
       "      <td>0.0</td>\n",
       "      <td>0.0</td>\n",
       "      <td>2</td>\n",
       "      <td>3</td>\n",
       "      <td>6</td>\n",
       "    </tr>\n",
       "  </tbody>\n",
       "</table>\n",
       "</div>"
      ],
      "text/plain": [
       "   Gender   Age  Height  Weight  family_history_with_overweight  FAVC  FCVC  \\\n",
       "0       0  21.0    1.62    64.0                               1     0   2.0   \n",
       "1       0  21.0    1.52    56.0                               1     0   3.0   \n",
       "2       1  23.0    1.80    77.0                               1     0   2.0   \n",
       "3       1  27.0    1.80    87.0                               0     0   3.0   \n",
       "4       1  22.0    1.78    89.8                               0     0   2.0   \n",
       "\n",
       "   NCP  CAEC  SMOKE  CH2O  SCC  FAF  TUE  CALC  MTRANS  NObeyesdad  \n",
       "0  3.0     2      0   2.0    0  0.0  1.0     3       3           1  \n",
       "1  3.0     2      1   3.0    1  3.0  0.0     2       3           1  \n",
       "2  3.0     2      0   2.0    0  2.0  1.0     1       3           1  \n",
       "3  3.0     2      0   2.0    0  2.0  0.0     1       4           5  \n",
       "4  1.0     2      0   2.0    0  0.0  0.0     2       3           6  "
      ]
     },
     "execution_count": 11,
     "metadata": {},
     "output_type": "execute_result"
    }
   ],
   "source": [
    "data_full.head()"
   ]
  },
  {
   "cell_type": "markdown",
   "metadata": {},
   "source": [
    "Artificially create missing value will be conducted on the following columns:\n",
    "- `age` → numeric\n",
    "- `height` → numeric\n",
    "- `family_history_with_overweight` → category\n",
    "\n",
    "This column was chosen because it has the potential to be described by other columns. Referring to the correlation check, it was found that `age`, `height`, and `family_history_with_overweight` have other column pairs that can explain the missing values. Furthermore, it is also known from the literature study that the other columns are also interrelated.\n",
    "\n",
    "First of all, create a new DataFrame with the name `data_mv` which is a copy of the DataFrame `data_full`. Then randomly generate 30% `NaN` using library `numpy`. \n",
    "\n",
    "Missing values created in the following columns: `age` (column 1), `height` (column 2), and `family_history_with_overweight` (column 4)."
   ]
  },
  {
   "cell_type": "code",
   "execution_count": 12,
   "metadata": {},
   "outputs": [],
   "source": [
    "data_mv = data_full.copy()\n",
    "\n",
    "random.seed(123)\n",
    "\n",
    "ix = [(row, col) for row in range(data_mv.shape[0]) for col in range(data_mv.shape[1])]\n",
    "for row, col in random.sample(ix, int(round(.3*len(ix)))):\n",
    "    if (col ==  1) | (col == 2) | (col == 4):\n",
    "        data_mv.iat[row, col] = np.nan"
   ]
  },
  {
   "cell_type": "markdown",
   "metadata": {},
   "source": [
    "### Check Missing Values"
   ]
  },
  {
   "cell_type": "markdown",
   "metadata": {},
   "source": [
    "The missing value check is again performed on `data_mv`."
   ]
  },
  {
   "cell_type": "code",
   "execution_count": 13,
   "metadata": {},
   "outputs": [
    {
     "data": {
      "text/plain": [
       "Gender                              0\n",
       "Age                               625\n",
       "Height                            638\n",
       "Weight                              0\n",
       "family_history_with_overweight    625\n",
       "FAVC                                0\n",
       "FCVC                                0\n",
       "NCP                                 0\n",
       "CAEC                                0\n",
       "SMOKE                               0\n",
       "CH2O                                0\n",
       "SCC                                 0\n",
       "FAF                                 0\n",
       "TUE                                 0\n",
       "CALC                                0\n",
       "MTRANS                              0\n",
       "NObeyesdad                          0\n",
       "dtype: int64"
      ]
     },
     "execution_count": 13,
     "metadata": {},
     "output_type": "execute_result"
    }
   ],
   "source": [
    "data_mv.isnull().sum()"
   ]
  },
  {
   "cell_type": "markdown",
   "metadata": {},
   "source": [
    "Artificially created missing value was successfully carried out. Now there is a missing value in these columns:\n",
    "- `Age` → 625 rows\n",
    "- `Height` → 638 rows\n",
    "- `family_history_with_overweight` → 625 rows\n",
    "\n",
    "Calculates the percentage of the number of missing values by dividing the number of missing values by the length of `data_mv`."
   ]
  },
  {
   "cell_type": "code",
   "execution_count": 14,
   "metadata": {
    "scrolled": true
   },
   "outputs": [
    {
     "data": {
      "text/plain": [
       "Gender                            0.000000\n",
       "Age                               0.296068\n",
       "Height                            0.302226\n",
       "Weight                            0.000000\n",
       "family_history_with_overweight    0.296068\n",
       "FAVC                              0.000000\n",
       "FCVC                              0.000000\n",
       "NCP                               0.000000\n",
       "CAEC                              0.000000\n",
       "SMOKE                             0.000000\n",
       "CH2O                              0.000000\n",
       "SCC                               0.000000\n",
       "FAF                               0.000000\n",
       "TUE                               0.000000\n",
       "CALC                              0.000000\n",
       "MTRANS                            0.000000\n",
       "NObeyesdad                        0.000000\n",
       "dtype: float64"
      ]
     },
     "execution_count": 14,
     "metadata": {},
     "output_type": "execute_result"
    }
   ],
   "source": [
    "data_mv.isnull().sum()/len(data_mv)"
   ]
  },
  {
   "cell_type": "markdown",
   "metadata": {},
   "source": [
    "Overall, the percentage of each selected column has a missing value of approximately 30%."
   ]
  },
  {
   "cell_type": "markdown",
   "metadata": {},
   "source": [
    "## Imputation"
   ]
  },
  {
   "cell_type": "markdown",
   "metadata": {},
   "source": [
    "After the missing value has been successfully created on purpose, the next step is to substitute the missing value with the imputation technique.\n",
    "\n",
    "This project will perform imputation with 2 techniques, which are **Statistical and MICE**."
   ]
  },
  {
   "cell_type": "markdown",
   "metadata": {},
   "source": [
    "### Implement Statistical Imputation"
   ]
  },
  {
   "cell_type": "markdown",
   "metadata": {},
   "source": [
    "Using statistical techniques by applying imputation with:\n",
    "- Fill in the mean value in the numeric columns (`Age` and `Height`) \n",
    "- Fill in the mode value in the categorical column (`family_history_with_overweight`) \n"
   ]
  },
  {
   "cell_type": "code",
   "execution_count": 15,
   "metadata": {
    "scrolled": true
   },
   "outputs": [],
   "source": [
    "# Copy data to obesity_statistical_imputed\n",
    "obesity_statistical_imputed = data_mv.copy()\n",
    "\n",
    "# convert NA Age with mean\n",
    "obesity_statistical_imputed.Age = obesity_statistical_imputed.Age.fillna(obesity_statistical_imputed['Age'].mean())\n",
    "\n",
    "# convert NA Height with mean\n",
    "obesity_statistical_imputed.Height = obesity_statistical_imputed.Height.fillna(obesity_statistical_imputed['Height'].mean())\n",
    "\n",
    "# convert NA family_history_with_overweight with modus\n",
    "obesity_statistical_imputed['family_history_with_overweight'].fillna(obesity_statistical_imputed['family_history_with_overweight'].mode()[0], inplace=True)"
   ]
  },
  {
   "cell_type": "markdown",
   "metadata": {},
   "source": [
    "Checking for missing values after imputing with statistical methods:"
   ]
  },
  {
   "cell_type": "code",
   "execution_count": 16,
   "metadata": {},
   "outputs": [
    {
     "data": {
      "text/plain": [
       "Gender                            0\n",
       "Age                               0\n",
       "Height                            0\n",
       "Weight                            0\n",
       "family_history_with_overweight    0\n",
       "FAVC                              0\n",
       "FCVC                              0\n",
       "NCP                               0\n",
       "CAEC                              0\n",
       "SMOKE                             0\n",
       "CH2O                              0\n",
       "SCC                               0\n",
       "FAF                               0\n",
       "TUE                               0\n",
       "CALC                              0\n",
       "MTRANS                            0\n",
       "NObeyesdad                        0\n",
       "dtype: int64"
      ]
     },
     "execution_count": 16,
     "metadata": {},
     "output_type": "execute_result"
    }
   ],
   "source": [
    "obesity_statistical_imputed.isnull().sum()"
   ]
  },
  {
   "cell_type": "markdown",
   "metadata": {},
   "source": [
    "All missing values have been successfully imputed by statistical methods."
   ]
  },
  {
   "cell_type": "markdown",
   "metadata": {},
   "source": [
    "## Implement MICE"
   ]
  },
  {
   "cell_type": "markdown",
   "metadata": {},
   "source": [
    "The implementation of MICE is done by using the `fancyimpute` library. `fancyimpute` uses all the column to impute the missing values. There are two ways missing data can be imputed using `fancyimpute` :\n",
    "- KNN or K-Nearest Neighbor\n",
    "- MICE or Multiple Imputation by Chained Equation\n",
    "\n",
    "Documentation for `fancyimpute` : https://pypi.org/project/fancyimpute/\n",
    "\n",
    "In `fancyimpute`, the MICE algorithm is named as `IterativeImputer`. The steps taken are:\n",
    "- Copy `data_mv` to `obesity_mice_imputed`\n",
    "- Initialize `IterativeImputer` with name `mice_imputer`\n",
    "- Impute using `fit_transform` on data\n",
    "- For categorical data `family_history_with_overweight`, round the imputed value"
   ]
  },
  {
   "cell_type": "code",
   "execution_count": 17,
   "metadata": {
    "scrolled": true
   },
   "outputs": [],
   "source": [
    "# Copy data to obesity_mice_imputed\n",
    "obesity_mice_imputed = data_mv.copy()\n",
    "\n",
    "# Initialize IterativeImputer\n",
    "mice_imputer = IterativeImputer()\n",
    "\n",
    "# Impute using fit_tranform on data\n",
    "obesity_mice_imputed.iloc[:, :] = mice_imputer.fit_transform(obesity_mice_imputed)\n",
    "\n",
    "# Using round for imputation value on categorical data\n",
    "obesity_mice_imputed['family_history_with_overweight'] = (round(obesity_mice_imputed['family_history_with_overweight']))"
   ]
  },
  {
   "cell_type": "markdown",
   "metadata": {},
   "source": [
    "Checking for missing values after imputing with MICE method:"
   ]
  },
  {
   "cell_type": "code",
   "execution_count": 18,
   "metadata": {
    "scrolled": false
   },
   "outputs": [
    {
     "data": {
      "text/plain": [
       "Gender                            0\n",
       "Age                               0\n",
       "Height                            0\n",
       "Weight                            0\n",
       "family_history_with_overweight    0\n",
       "FAVC                              0\n",
       "FCVC                              0\n",
       "NCP                               0\n",
       "CAEC                              0\n",
       "SMOKE                             0\n",
       "CH2O                              0\n",
       "SCC                               0\n",
       "FAF                               0\n",
       "TUE                               0\n",
       "CALC                              0\n",
       "MTRANS                            0\n",
       "NObeyesdad                        0\n",
       "dtype: int64"
      ]
     },
     "execution_count": 18,
     "metadata": {},
     "output_type": "execute_result"
    }
   ],
   "source": [
    "obesity_mice_imputed.isnull().sum()"
   ]
  },
  {
   "cell_type": "markdown",
   "metadata": {},
   "source": [
    "All missing values have been successfully imputed by MICE method."
   ]
  },
  {
   "cell_type": "markdown",
   "metadata": {},
   "source": [
    "## Check Performance "
   ]
  },
  {
   "cell_type": "markdown",
   "metadata": {},
   "source": [
    "In order to examine the performance of the imputation method, this project is using the **MSE** and **RMSE** values for numeric prediction, and **Accuracy** for category prediction. \n",
    "\n",
    "### MSE and RMSE\n",
    "The Mean Squared Error (MSE) and the Root Mean Square Error (RMSE) are the standard statistical metrics used to evaluate models [(Ref)](https://gmd.copernicus.org/articles/7/1247/2014/).\n",
    "\n",
    "- Mean Squared Error (MSE) is the average squared error between the actual value and the forecast value.\n",
    "- Root Mean Square Error (RMSE) is the magnitude of the prediction error rate.\n",
    "\n",
    "**MSE formula:**\n",
    "\n",
    "$$\n",
    "    MSE = \\frac {1}{n} \\sum^{n}_{i=1} (y_i - \\hat{y_i})^2\n",
    "$$\n",
    "\n",
    "**RMSE formula:**\n",
    "\n",
    "$$\n",
    "    RMSE = \\sqrt {\\sum^{n}_{i=1} \\frac {(y_i - \\hat{y_i})^2} {n}}\n",
    "$$\n",
    "\n",
    "- $MSE$ = mean square error\n",
    "- $RMSE$ = root mean square error\n",
    "- $y$ = observed value\n",
    "- $\\hat{y_i}$= predicted result value\n",
    "- $i$ = order of data in database\n",
    "- $n$ = number of data\n",
    "\n",
    "MSE and RMSE values are getting smaller and closer to 0 indicating more accurate prediction results.\n",
    "\n",
    "Calculating MSE and RMSE values can be executed using the `sklearn.metrics` library which has a `mean_squared_error` function with a squared kwarg (defaults to `True`). Setting squared to `False` will return the `RMSE`.\n",
    "\n",
    "### Accuracy\n",
    "\n",
    "Accuracy is a metric that summarizes the performance of a classification or prediction model as the number of correct predictions divided by the total number of predictions. Measurements based on accuracy are more suitable and commonly used for assesing the prediction or imputation for categorical data [(Ref)](https://www.researchgate.net/publication/319251235_Performance_Analysis_of_Various_Missing_Value_Imputation_Methods_on_Heart_Failure_Dataset). Accuracy of 1 indicates a perfect accuracy, whereas the accuracy of 0 indicates a random guess.\n",
    "\n",
    "\n",
    "**Accuracy Formula:**\n",
    "\n",
    "$$\n",
    "    Accuracy = \\frac {Number of Correct Prediction} {Total Number of Predictions}\n",
    "$$\n",
    "\n",
    "Calculating accuracy scores can be executed using the `sklearn.metrics` library which has a `accuracy_score`."
   ]
  },
  {
   "cell_type": "markdown",
   "metadata": {},
   "source": [
    "### Check Performance for Statistical Imputation"
   ]
  },
  {
   "cell_type": "markdown",
   "metadata": {},
   "source": [
    "Let's check the performance of the imputation missing value starting with the statistical imputation method. For performance measurement, the substitution of `height` and `age` values uses the MSE and RMSE values. As for `family_history_with_overweight` use the accuracy value."
   ]
  },
  {
   "cell_type": "code",
   "execution_count": 19,
   "metadata": {},
   "outputs": [
    {
     "name": "stdout",
     "output_type": "stream",
     "text": [
      "0.0025511793359410885\n",
      "0.05050920050783905\n"
     ]
    }
   ],
   "source": [
    "#performance imputation for Height\n",
    "mse_height_stats = mean_squared_error(data_full.Height, obesity_statistical_imputed.Height)\n",
    "print(mse_height_stats) \n",
    "\n",
    "rmse_height_stats = mean_squared_error(data_full.Height, obesity_statistical_imputed.Height, squared=False)\n",
    "print(rmse_height_stats)"
   ]
  },
  {
   "cell_type": "code",
   "execution_count": 20,
   "metadata": {},
   "outputs": [
    {
     "name": "stdout",
     "output_type": "stream",
     "text": [
      "13.065689619855316\n",
      "3.61464930800421\n"
     ]
    }
   ],
   "source": [
    "#performance imputation for Age\n",
    "mse_age_stats = mean_squared_error(data_full.Age, obesity_statistical_imputed.Age)\n",
    "print(mse_age_stats)\n",
    "\n",
    "rmse_age_stats = mean_squared_error(data_full.Age, obesity_statistical_imputed.Age, squared=False)\n",
    "print(rmse_age_stats)"
   ]
  },
  {
   "cell_type": "code",
   "execution_count": 21,
   "metadata": {
    "scrolled": true
   },
   "outputs": [
    {
     "data": {
      "text/plain": [
       "0.9398389388915206"
      ]
     },
     "execution_count": 21,
     "metadata": {},
     "output_type": "execute_result"
    }
   ],
   "source": [
    "# performance imputation for family_history_with_overweight\n",
    "accuracy_score(data_full.family_history_with_overweight, obesity_statistical_imputed.family_history_with_overweight)"
   ]
  },
  {
   "cell_type": "markdown",
   "metadata": {},
   "source": [
    "### Check Performance MICE"
   ]
  },
  {
   "cell_type": "markdown",
   "metadata": {},
   "source": [
    "Next is to carry out a performance assessment of value imputation using MICE."
   ]
  },
  {
   "cell_type": "code",
   "execution_count": 22,
   "metadata": {},
   "outputs": [
    {
     "name": "stdout",
     "output_type": "stream",
     "text": [
      "0.0010379559663753416\n",
      "0.03221732401015549\n"
     ]
    }
   ],
   "source": [
    "#performance imputation for Height\n",
    "mse_height_mice = mean_squared_error(data_full.Height, obesity_mice_imputed.Height)\n",
    "print(mse_height_mice) \n",
    "\n",
    "rmse_height_mice = mean_squared_error(data_full.Height, obesity_mice_imputed.Height, squared=False)\n",
    "print(rmse_height_mice)"
   ]
  },
  {
   "cell_type": "code",
   "execution_count": 23,
   "metadata": {},
   "outputs": [
    {
     "name": "stdout",
     "output_type": "stream",
     "text": [
      "6.928177454170077\n",
      "2.632143129499245\n"
     ]
    }
   ],
   "source": [
    "#performance imputation for Age\n",
    "mse_age_mice = mean_squared_error(data_full.Age, obesity_mice_imputed.Age)\n",
    "print(mse_age_mice)\n",
    "\n",
    "rmse_age_mice = mean_squared_error(data_full.Age, obesity_mice_imputed.Age, squared=False)\n",
    "print(rmse_age_mice)"
   ]
  },
  {
   "cell_type": "code",
   "execution_count": 24,
   "metadata": {
    "scrolled": true
   },
   "outputs": [
    {
     "data": {
      "text/plain": [
       "0.9578398863098058"
      ]
     },
     "execution_count": 24,
     "metadata": {},
     "output_type": "execute_result"
    }
   ],
   "source": [
    "#performance imputation for family_history_with_overweight\n",
    "accuracy_score(data_full.family_history_with_overweight, obesity_mice_imputed.family_history_with_overweight)"
   ]
  },
  {
   "cell_type": "markdown",
   "metadata": {},
   "source": [
    "## Performance Analysis \n",
    "\n",
    "After calculating MSE,RMSE, and Accuracy to assess the prediction performance on each imputation method (Statistical and MICE), the following results are obtained:\n",
    "\n",
    "![](data/statistical_summary.png)\n",
    "\n",
    "![](data/mice_summary.png)"
   ]
  },
  {
   "cell_type": "markdown",
   "metadata": {},
   "source": [
    "The result above shows that imputation with MICE constantly produces lower MSE and RMSE values than the Statistical method for columns  `Height` and `Age`.  As is known, the lower the MSE and RMSE values, the imputation value is closer to the actual value. Then the calculation of the accuracy value in `Family History` also shows a better accuracy scores which is reaching 96%. \n",
    "\n",
    "MICE successfully imputed well for all types of columns namely numeric (`Height`, `Age`) and categorical (`Family History`).\n",
    "\n",
    "This shows that MICE is able to make better predictions by using information from other columns. These other columns are considered to be able to properly explain the empty column, so that the prediction results obtained can approach the actual value.\n",
    "\n",
    "Thus, the idea of MICE becomes a promising alternative to Missing at Random (MAR) data. When compared to statistical methods that only retrieve information from the distribution of values in the missing column, which is capable of displaying a fairly large bias, especially over a wide range of data.\n",
    "\n",
    "Whereas in the type of missing value MAR, it is known that there is a relationship between columns. So it is very logical if we use the inforamtion of other columns to predict the value. MICE performs regression on the empty column by making the empty column as the target, and the other column as the predictor. As a result, the outcome of the predicted value is close to the actual value.\n",
    "\n",
    "So, through this project, it is proven that the objective of the MICE concept is working properly. Although for some results, the assessment of performance between MICE and statistical methods is not much different. But, it is believed that the accuracy of imputation is to increase with the amount of data and information used. Besides, the stronger the relationship between the columns, the more precise the predicted value will be."
   ]
  },
  {
   "cell_type": "markdown",
   "metadata": {},
   "source": [
    "## Summary"
   ]
  },
  {
   "cell_type": "markdown",
   "metadata": {},
   "source": [
    "The summary will address the project objectives as follows:"
   ]
  },
  {
   "cell_type": "markdown",
   "metadata": {},
   "source": [
    "> Missing data imputation using MICE was successfully performed on Missing at Random data using the `fancyimpute` library. \n",
    "\n",
    "> The results show that MICE performance is better than Statistical Imputation in terms of `MSE` and `RMSE` for numeric data, and `Accuracy` for categorical data. The MICE idea of using information from another columns proved helpful in replacing missing values.\n",
    "\n",
    "> MICE is able to perform well on numeric and categorical data types. It is believed that MICE will produce the more excellent imputation when the correlation of each column is greater."
   ]
  },
  {
   "cell_type": "markdown",
   "metadata": {},
   "source": [
    "#### References:\n",
    "\n",
    "- Abidin, N. Z., Ismail, A. R., & Emran, N. A. (2018). Performance analysis of machine learning algorithms for missing value imputation. International Journal of Advanced Computer Science and Applications (IJACSA), 9(6), 442-447.\n",
    "- Al Khaldy, M., & Kambhampati, C. (2016, September). Performance analysis of various missing value imputation methods on heart failure dataset. In Proceedings of SAI Intelligent Systems Conference (pp. 415-425). Springer, Cham.\n",
    "- Chai, T., & Draxler, R. R. (2014). Root mean square error (RMSE) or mean absolute error (MAE)?–Arguments against avoiding RMSE in the literature. Geoscientific model development, 7(3), 1247-1250.\n",
    "- Cui, T., Chen, Y., Wang, J., Deng, H., & Huang, Y. (2021, May). Estimation of Obesity Levels Based on Decision Trees. In 2021 International Symposium on Artificial Intelligence and its Application on Media (ISAIAM) (pp. 160-165). IEEE.\n",
    "- Huang, S. F., & Cheng, C. H. (2020). A Safe-Region Imputation Method for Handling Medical Data with Missing Values. Symmetry, 12(11), 1792.\n",
    "- Little, R. J., & Rubin, D. B. (2019). Statistical analysis with missing data (Vol. 793). John Wiley & Sons.\n",
    "- Mera-Gaona, M., Neumann, U., Vargas-Canas, R., & López, D. M. (2021). Evaluating the impact of multivariate imputation by MICE in feature selection. Plos one, 16(7).\n",
    "- Palechor, F. M., & de la Hoz Manotas, A. (2019). Dataset for estimation of obesity levels based on eating habits and physical condition in individuals from Colombia, Peru and Mexico. Data in brief, 25, 104344.\n",
    "- Slade, E., & Naylor, M. G. (2020). A fair comparison of tree‐based and parametric methods in multiple imputation by chained equations. Statistics in medicine, 39(8), 1156-1166.\n",
    "- https://archive.ics.uci.edu/ml/datasets/Estimation+of+obesity+levels+based+on+eating+habits+and+physical+condition+\n",
    "- https://scikit-learn.org/stable/auto_examples/impute/plot_iterative_imputer_variants_comparison.html\n",
    "- https://www.datatechnotes.com/2019/10/accuracy-check-in-python-mae-mse-rmse-r.html"
   ]
  }
 ],
 "metadata": {
  "kernelspec": {
   "display_name": "qoppa_da",
   "language": "python",
   "name": "qoppa_da"
  },
  "language_info": {
   "codemirror_mode": {
    "name": "ipython",
    "version": 3
   },
   "file_extension": ".py",
   "mimetype": "text/x-python",
   "name": "python",
   "nbconvert_exporter": "python",
   "pygments_lexer": "ipython3",
   "version": "3.9.7"
  },
  "toc": {
   "base_numbering": 1,
   "nav_menu": {},
   "number_sections": true,
   "sideBar": true,
   "skip_h1_title": false,
   "title_cell": "Table of Contents",
   "title_sidebar": "Contents",
   "toc_cell": false,
   "toc_position": {},
   "toc_section_display": true,
   "toc_window_display": true
  }
 },
 "nbformat": 4,
 "nbformat_minor": 4
}
